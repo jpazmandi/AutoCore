{
 "cells": [
  {
   "cell_type": "code",
   "execution_count": 7,
   "metadata": {},
   "outputs": [
    {
     "name": "stdout",
     "output_type": "stream",
     "text": [
      "\n",
      "> done loading network:\n",
      "> network contains 18854 nodes and 483644 links\n",
      "\n",
      "> done reading gene sets:\n",
      "> 187 genes found in 3 sets\n"
     ]
    }
   ],
   "source": [
    "#\n",
    "#\n",
    "#\n",
    "# reading in network and autoimmune/autoinflammatory genes\n",
    "#\n",
    "#\n",
    "#\n",
    "\n",
    "def read_gene_file(gene_file):\n",
    "    \"\"\"\n",
    "    Reads a list genes from an external file.\n",
    "\n",
    "    * The genes must be provided as a table in rows. The first column will\n",
    "    be the identifier, the rest are the values.\n",
    "\n",
    "    * Lines that start with '#' will be ignored\n",
    "    \"\"\"\n",
    "    no_genes=0\n",
    "    genes_set ={}\n",
    "    fp=open(gene_file, 'r', encoding='utf-8', errors='ignore')\n",
    "    for line in fp:\n",
    "    \n",
    "        # lines starting with '#' will be ignored\n",
    "        if line[0]=='#':\n",
    "            continue\n",
    "        # the first column in the line will be interpreted as a seed\n",
    "        # gene:\n",
    "        line_data = line.strip().split('\\t')\n",
    "        disease      = line_data[0]\n",
    "        genes      = set(line_data[1:])\n",
    "        no_genes+=len(genes)\n",
    "        genes_set[disease]=genes\n",
    "    fp.close()\n",
    "\n",
    "    return genes_set \n",
    "\n",
    "import networkx as nx\n",
    "\n",
    "import itertools\n",
    "import time \n",
    "\n",
    "t0 = time.time()\n",
    "G0=nx.read_edgelist('mydata/Supplementary_File_1_interactome_edgelist_cleaned.txt')\n",
    "#G=max(nx.connected_component_subgraphs(G0), key=len)\n",
    "G = (G0.subgraph(c) for c in nx.connected_components(G0))\n",
    "G = list(G)[0]\n",
    "\n",
    "groups=read_gene_file('mydata/aimm_ainfl_grouping_3_jan21_IDs.txt') # file that contains autoimmune/autoinflammatory grouping of monogenic autoimmune/autoinflammatory gene defects"
   ]
  },
  {
   "cell_type": "code",
   "execution_count": 8,
   "metadata": {},
   "outputs": [
    {
     "name": "stdout",
     "output_type": "stream",
     "text": [
      "dict_keys(['autoinflammation', 'autoimmunity', 'autoimmunity and autoinflammation'])\n"
     ]
    }
   ],
   "source": [
    "#\n",
    "# first neighbors\n",
    "#\n",
    "first_neighbors_no={}\n",
    "first_neighbors={}\n",
    "for mycluster, genes in groups.items():\n",
    "    neighbors=set()\n",
    "    for thegene in genes:\n",
    "        neigh_list=G.neighbors(thegene) \n",
    "        for what in neigh_list:\n",
    "            neighbors.add(what)\n",
    "    first_neighbors[mycluster]=neighbors\n",
    "    first_neighbors_no[mycluster]=len(neighbors)\n",
    "print(first_neighbors.keys())"
   ]
  },
  {
   "cell_type": "code",
   "execution_count": 9,
   "metadata": {},
   "outputs": [
    {
     "name": "stdout",
     "output_type": "stream",
     "text": [
      "\n",
      "> done reading gene sets:\n",
      "> 89855 genes found in 1554 sets\n"
     ]
    }
   ],
   "source": [
    "#\n",
    "# pathway annotation read in \n",
    "#\n",
    "\n",
    "enrichment_groups=bft.read_gene_file('mydata/reactome_pathways.txt')\n",
    "\n",
    "#\n",
    "#\n",
    "# number of pathways per group\n",
    "#\n",
    "#\n",
    "fp=open('mydata/pathways_reached_by_aimm_ainfl_monsterppi_per_group.txt','w')\n",
    "pathway_data=[]\n",
    "pathways_reached_dict={}\n",
    "pathways_reached_number={}\n",
    "for myclus, genelist in first_neighbors.items():\n",
    "    pathways_reached=set()\n",
    "    for mygene in genelist:\n",
    "        for path, geneset in enrichment_groups.items():\n",
    "            if mygene in geneset:\n",
    "                pathways_reached.add(path)\n",
    "                \n",
    "                \n",
    "    pathways_reached_dict[myclus]=pathways_reached\n",
    "    for pathwayset in pathways_reached:\n",
    "        fp.write('%s\\t%s\\n' %(myclus,pathwayset ))\n",
    "    pathways_reached_number[myclus]=len(pathways_reached)\n",
    "    pathway_data.append({'cluster':myclus, 'cluster_size': len(groups[myclus]),'neighborhood_size':first_neighbors_no[myclus], 'pathways_reached':len(pathways_reached), 'pathway_diversity':len(pathways_reached)/first_neighbors_no[myclus] })\n",
    "fp.close()\n",
    "\n",
    "pathway_to_clus={}\n",
    "for theclus, pathwayset in pathways_reached_dict.items():\n",
    "    for path in pathwayset:\n",
    "        if path in pathway_to_clus.keys():\n",
    "            pathway_to_clus[path]+=';'+theclus\n",
    "        else:\n",
    "            pathway_to_clus[path]=theclus\n"
   ]
  },
  {
   "cell_type": "code",
   "execution_count": 29,
   "metadata": {},
   "outputs": [
    {
     "name": "stdout",
     "output_type": "stream",
     "text": [
      "   adjusted_pathways_reached                            cluster  cluster_size  \\\n",
      "0                   3.542254                   autoinflammation            75   \n",
      "1                   3.245161                       autoimmunity            83   \n",
      "2                   4.502326  autoimmunity and autoinflammation            29   \n",
      "\n",
      "   neighborhood_size  pathways_reached  \n",
      "0                284              1006  \n",
      "1                310              1006  \n",
      "2                215               968  \n"
     ]
    }
   ],
   "source": [
    "#\n",
    "#\n",
    "# printing out results\n",
    "#\n",
    "#\n",
    "\n",
    "\n",
    "import pandas as pd\n",
    "\n",
    "neigh_datatable=pd.DataFrame(pathway_data)\n",
    "print(neigh_datatable)\n",
    "\n",
    "neigh_datatable.to_csv('mydata/pathway_diversity_autoimmune_autoinflammatory_genes.txt', index=False, sep='\\t')"
   ]
  },
  {
   "cell_type": "code",
   "execution_count": null,
   "metadata": {},
   "outputs": [],
   "source": []
  }
 ],
 "metadata": {
  "kernelspec": {
   "display_name": "Python 3",
   "language": "python",
   "name": "python3"
  },
  "language_info": {
   "codemirror_mode": {
    "name": "ipython",
    "version": 3
   },
   "file_extension": ".py",
   "mimetype": "text/x-python",
   "name": "python",
   "nbconvert_exporter": "python",
   "pygments_lexer": "ipython3",
   "version": "3.7.3"
  }
 },
 "nbformat": 4,
 "nbformat_minor": 2
}
